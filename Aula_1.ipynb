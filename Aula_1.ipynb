{
  "nbformat": 4,
  "nbformat_minor": 0,
  "metadata": {
    "colab": {
      "name": "Aula_1.ipynb",
      "provenance": [],
      "collapsed_sections": []
    },
    "kernelspec": {
      "name": "python3",
      "display_name": "Python 3"
    }
  },
  "cells": [
    {
      "cell_type": "code",
      "metadata": {
        "id": "Q96J17TwzgwH",
        "colab_type": "code",
        "outputId": "a5137f9c-3961-4376-a007-0d24fbe87355",
        "colab": {
          "base_uri": "https://localhost:8080/",
          "height": 355
        }
      },
      "source": [
        "import pandas as pd\n",
        "\n",
        "perguntas = pd.read_csv(\"stackoverflow_perguntas.csv\")\n",
        "perguntas.sample(10)"
      ],
      "execution_count": 0,
      "outputs": [
        {
          "output_type": "execute_result",
          "data": {
            "text/html": [
              "<div>\n",
              "<style scoped>\n",
              "    .dataframe tbody tr th:only-of-type {\n",
              "        vertical-align: middle;\n",
              "    }\n",
              "\n",
              "    .dataframe tbody tr th {\n",
              "        vertical-align: top;\n",
              "    }\n",
              "\n",
              "    .dataframe thead th {\n",
              "        text-align: right;\n",
              "    }\n",
              "</style>\n",
              "<table border=\"1\" class=\"dataframe\">\n",
              "  <thead>\n",
              "    <tr style=\"text-align: right;\">\n",
              "      <th></th>\n",
              "      <th>Perguntas</th>\n",
              "      <th>Tags</th>\n",
              "    </tr>\n",
              "  </thead>\n",
              "  <tbody>\n",
              "    <tr>\n",
              "      <th>4392</th>\n",
              "      <td>Estou fazendo uma \"UI\" com Canvas, onde apenas...</td>\n",
              "      <td>html</td>\n",
              "    </tr>\n",
              "    <tr>\n",
              "      <th>1108</th>\n",
              "      <td>Boa tarde galera, sou novo em Node.js e estou ...</td>\n",
              "      <td>node.js</td>\n",
              "    </tr>\n",
              "    <tr>\n",
              "      <th>748</th>\n",
              "      <td>Tenho uma dúvida, alguns métodos do jQuery esp...</td>\n",
              "      <td>jquery</td>\n",
              "    </tr>\n",
              "    <tr>\n",
              "      <th>1128</th>\n",
              "      <td>Estou usando long polling com PHP + JQuery, qu...</td>\n",
              "      <td>jquery</td>\n",
              "    </tr>\n",
              "    <tr>\n",
              "      <th>2362</th>\n",
              "      <td>Bom, vi alguns artigos explicando que o \"ngSub...</td>\n",
              "      <td>angular</td>\n",
              "    </tr>\n",
              "    <tr>\n",
              "      <th>1217</th>\n",
              "      <td>Tem como fazer com que todas vez que clico na ...</td>\n",
              "      <td>jquery html</td>\n",
              "    </tr>\n",
              "    <tr>\n",
              "      <th>3035</th>\n",
              "      <td>Estou em um projeto MVC 4, usando bootstrap e ...</td>\n",
              "      <td>html</td>\n",
              "    </tr>\n",
              "    <tr>\n",
              "      <th>1015</th>\n",
              "      <td>Estava tentando fazer um append ou replace em ...</td>\n",
              "      <td>jquery html</td>\n",
              "    </tr>\n",
              "    <tr>\n",
              "      <th>4565</th>\n",
              "      <td>Não encontrei muito a respeito desse assunto e...</td>\n",
              "      <td>jquery</td>\n",
              "    </tr>\n",
              "    <tr>\n",
              "      <th>711</th>\n",
              "      <td>Estou querendo alterar de forma dinâmica o atr...</td>\n",
              "      <td>jquery</td>\n",
              "    </tr>\n",
              "  </tbody>\n",
              "</table>\n",
              "</div>"
            ],
            "text/plain": [
              "                                              Perguntas         Tags\n",
              "4392  Estou fazendo uma \"UI\" com Canvas, onde apenas...         html\n",
              "1108  Boa tarde galera, sou novo em Node.js e estou ...      node.js\n",
              "748   Tenho uma dúvida, alguns métodos do jQuery esp...       jquery\n",
              "1128  Estou usando long polling com PHP + JQuery, qu...       jquery\n",
              "2362  Bom, vi alguns artigos explicando que o \"ngSub...      angular\n",
              "1217  Tem como fazer com que todas vez que clico na ...  jquery html\n",
              "3035  Estou em um projeto MVC 4, usando bootstrap e ...        html \n",
              "1015  Estava tentando fazer um append ou replace em ...  jquery html\n",
              "4565  Não encontrei muito a respeito desse assunto e...       jquery\n",
              "711   Estou querendo alterar de forma dinâmica o atr...       jquery"
            ]
          },
          "metadata": {
            "tags": []
          },
          "execution_count": 1
        }
      ]
    },
    {
      "cell_type": "code",
      "metadata": {
        "id": "cEJH0_TbH3GB",
        "colab_type": "code",
        "colab": {}
      },
      "source": [
        ""
      ],
      "execution_count": 0,
      "outputs": []
    }
  ]
}